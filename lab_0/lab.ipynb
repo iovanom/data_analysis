{
 "cells": [
  {
   "cell_type": "code",
   "execution_count": 31,
   "id": "9abd0d46-0bb0-4ab8-9435-7cf1089590ab",
   "metadata": {},
   "outputs": [
    {
     "data": {
      "text/plain": [
       "True"
      ]
     },
     "execution_count": 31,
     "metadata": {},
     "output_type": "execute_result"
    }
   ],
   "source": [
    "# imports all libraries\n",
    "import os\n",
    "import pandas as pd\n",
    "import requests\n",
    "from bs4 import BeautifulSoup\n",
    "from dotenv import load_dotenv\n",
    "# load environment variables\n",
    "load_dotenv()"
   ]
  },
  {
   "cell_type": "markdown",
   "id": "f19f854a-57dc-4e6e-9e3a-ee25b8338cbd",
   "metadata": {},
   "source": [
    "# Task 1\n",
    "## Download data and load to pandas dataframe\n",
    "\n",
    "1. csv format\n",
    "   * https://www.sistemulenergetic.ro/\n",
    "   * https://storage.googleapis.com/covid19-open-data/v3/epidemiology.csv\n",
    "\n",
    "2. json format\n",
    "\n",
    "   World Air Quality – OpenAQ for Moldova (json format) from https://public.opendatasoft.com/\n",
    "   \n",
    "4. API\n",
    "\n",
    "   Weather forecast for Chisinau from https://openweathermap.org"
   ]
  },
  {
   "cell_type": "code",
   "execution_count": 4,
   "id": "20556d67-9e85-4885-8655-0ff9f75ea532",
   "metadata": {},
   "outputs": [
    {
     "name": "stdout",
     "output_type": "stream",
     "text": [
      "<class 'pandas.core.frame.DataFrame'>\n",
      "RangeIndex: 1404 entries, 0 to 1403\n",
      "Data columns (total 12 columns):\n",
      " #   Column        Non-Null Count  Dtype \n",
      "---  ------        --------------  ----- \n",
      " 0   date          1404 non-null   object\n",
      " 1   carbune       1404 non-null   int64 \n",
      " 2   consum        1404 non-null   int64 \n",
      " 3   hidro         1404 non-null   int64 \n",
      " 4   hidrocarburi  1404 non-null   int64 \n",
      " 5   nuclear       1404 non-null   int64 \n",
      " 6   eolian        1404 non-null   int64 \n",
      " 7   productie     1404 non-null   int64 \n",
      " 8   fotovolt      1404 non-null   int64 \n",
      " 9   biomasa       1404 non-null   int64 \n",
      " 10  stocare       1404 non-null   int64 \n",
      " 11  sold          1404 non-null   int64 \n",
      "dtypes: int64(11), object(1)\n",
      "memory usage: 131.8+ KB\n",
      "None\n",
      "                  date  carbune  consum  hidro  hidrocarburi  nuclear  eolian  \\\n",
      "0  2025-10-01 08:08:38     1017    6740   1444          1263     1359     146   \n",
      "1  2025-09-30 20:38:08     1026    7344   1916          1338     1360     254   \n",
      "2  2025-09-30 09:09:26     1036    6711   1242          1328     1353     231   \n",
      "3  2025-09-29 21:38:29      967    6999   1892          1353     1366      23   \n",
      "4  2025-09-29 10:08:28      870    6831   1052          1296     1296     218   \n",
      "\n",
      "   productie  fotovolt  biomasa  stocare  sold  \n",
      "0       5484        80       51      122  1256  \n",
      "1       6051        -3       49      108  1293  \n",
      "2       5712       337       46      137   998  \n",
      "3       5650        -4       48        2  1348  \n",
      "4       5113       296       39       43  1718  \n"
     ]
    }
   ],
   "source": [
    "# 1. read csv format\n",
    "energ_df = pd.read_csv('./datasets/sistemulenergetic_ro.csv')\n",
    "print(energ_df.info())\n",
    "print(energ_df.head())"
   ]
  },
  {
   "cell_type": "code",
   "execution_count": 5,
   "id": "34614328-67d5-4bc9-87cb-2b41b8173f3f",
   "metadata": {},
   "outputs": [
    {
     "name": "stdout",
     "output_type": "stream",
     "text": [
      "<class 'pandas.core.frame.DataFrame'>\n",
      "RangeIndex: 12525825 entries, 0 to 12525824\n",
      "Data columns (total 10 columns):\n",
      " #   Column                Dtype  \n",
      "---  ------                -----  \n",
      " 0   date                  object \n",
      " 1   location_key          object \n",
      " 2   new_confirmed         float64\n",
      " 3   new_deceased          float64\n",
      " 4   new_recovered         float64\n",
      " 5   new_tested            float64\n",
      " 6   cumulative_confirmed  float64\n",
      " 7   cumulative_deceased   float64\n",
      " 8   cumulative_recovered  float64\n",
      " 9   cumulative_tested     float64\n",
      "dtypes: float64(8), object(2)\n",
      "memory usage: 955.6+ MB\n",
      "None\n",
      "         date location_key  new_confirmed  new_deceased  new_recovered  \\\n",
      "0  2020-01-01           AD            0.0           0.0            NaN   \n",
      "1  2020-01-02           AD            0.0           0.0            NaN   \n",
      "2  2020-01-03           AD            0.0           0.0            NaN   \n",
      "3  2020-01-04           AD            0.0           0.0            NaN   \n",
      "4  2020-01-05           AD            0.0           0.0            NaN   \n",
      "\n",
      "   new_tested  cumulative_confirmed  cumulative_deceased  \\\n",
      "0         NaN                   0.0                  0.0   \n",
      "1         NaN                   0.0                  0.0   \n",
      "2         NaN                   0.0                  0.0   \n",
      "3         NaN                   0.0                  0.0   \n",
      "4         NaN                   0.0                  0.0   \n",
      "\n",
      "   cumulative_recovered  cumulative_tested  \n",
      "0                   NaN                NaN  \n",
      "1                   NaN                NaN  \n",
      "2                   NaN                NaN  \n",
      "3                   NaN                NaN  \n",
      "4                   NaN                NaN  \n"
     ]
    }
   ],
   "source": [
    "epid_df = pd.read_csv('https://storage.googleapis.com/covid19-open-data/v3/epidemiology.csv')\n",
    "print(epid_df.info())\n",
    "print(epid_df.head())"
   ]
  },
  {
   "cell_type": "code",
   "execution_count": 7,
   "id": "28f0e4c6-fb54-4f6f-a2f6-a25e9f4d56c7",
   "metadata": {},
   "outputs": [
    {
     "name": "stdout",
     "output_type": "stream",
     "text": [
      "<class 'pandas.core.frame.DataFrame'>\n",
      "RangeIndex: 61177 entries, 0 to 61176\n",
      "Data columns (total 10 columns):\n",
      " #   Column                    Non-Null Count  Dtype  \n",
      "---  ------                    --------------  -----  \n",
      " 0   country                   61177 non-null  object \n",
      " 1   city                      32639 non-null  object \n",
      " 2   location                  61177 non-null  object \n",
      " 3   coordinates               61107 non-null  object \n",
      " 4   measurements_parameter    61177 non-null  object \n",
      " 5   measurements_sourcename   61177 non-null  object \n",
      " 6   measurements_unit         61177 non-null  object \n",
      " 7   measurements_value        61177 non-null  float64\n",
      " 8   measurements_lastupdated  61177 non-null  object \n",
      " 9   country_name_en           61050 non-null  object \n",
      "dtypes: float64(1), object(9)\n",
      "memory usage: 4.7+ MB\n",
      "None\n"
     ]
    }
   ],
   "source": [
    "# 2. JSON format\n",
    "url = 'https://public.opendatasoft.com/api/explore/v2.1/catalog/datasets/openaq/exports/json/?lang=en&timezone=Europe%2FChisinau'\n",
    "oaq_df = pd.read_json(url)\n",
    "print(oaq_df.info())"
   ]
  },
  {
   "cell_type": "code",
   "execution_count": 10,
   "id": "19ae3e8d-503b-4e46-9583-2051cc82a56b",
   "metadata": {},
   "outputs": [
    {
     "data": {
      "text/html": [
       "<div>\n",
       "<style scoped>\n",
       "    .dataframe tbody tr th:only-of-type {\n",
       "        vertical-align: middle;\n",
       "    }\n",
       "\n",
       "    .dataframe tbody tr th {\n",
       "        vertical-align: top;\n",
       "    }\n",
       "\n",
       "    .dataframe thead th {\n",
       "        text-align: right;\n",
       "    }\n",
       "</style>\n",
       "<table border=\"1\" class=\"dataframe\">\n",
       "  <thead>\n",
       "    <tr style=\"text-align: right;\">\n",
       "      <th></th>\n",
       "      <th>country</th>\n",
       "      <th>city</th>\n",
       "      <th>location</th>\n",
       "      <th>coordinates</th>\n",
       "      <th>measurements_parameter</th>\n",
       "      <th>measurements_sourcename</th>\n",
       "      <th>measurements_unit</th>\n",
       "      <th>measurements_value</th>\n",
       "      <th>measurements_lastupdated</th>\n",
       "      <th>country_name_en</th>\n",
       "    </tr>\n",
       "  </thead>\n",
       "  <tbody>\n",
       "    <tr>\n",
       "      <th>54829</th>\n",
       "      <td>MD</td>\n",
       "      <td>N/A</td>\n",
       "      <td>Chisinau</td>\n",
       "      <td>{'lon': 28.81938, 'lat': 47.021561}</td>\n",
       "      <td>PM2.5</td>\n",
       "      <td>AirNow</td>\n",
       "      <td>µg/m³</td>\n",
       "      <td>13.0</td>\n",
       "      <td>2024-08-09T15:00:00+03:00</td>\n",
       "      <td>Moldova, Republic of</td>\n",
       "    </tr>\n",
       "  </tbody>\n",
       "</table>\n",
       "</div>"
      ],
      "text/plain": [
       "      country city  location                          coordinates  \\\n",
       "54829      MD  N/A  Chisinau  {'lon': 28.81938, 'lat': 47.021561}   \n",
       "\n",
       "      measurements_parameter measurements_sourcename measurements_unit  \\\n",
       "54829                  PM2.5                  AirNow             µg/m³   \n",
       "\n",
       "       measurements_value   measurements_lastupdated       country_name_en  \n",
       "54829                13.0  2024-08-09T15:00:00+03:00  Moldova, Republic of  "
      ]
     },
     "execution_count": 10,
     "metadata": {},
     "output_type": "execute_result"
    }
   ],
   "source": [
    "md_oaq = oaq_df[oaq_df['country'] == 'MD']\n",
    "md_oaq.head()"
   ]
  },
  {
   "cell_type": "code",
   "execution_count": 30,
   "id": "3f914649-37a8-47b1-8786-ae8affd7d484",
   "metadata": {
    "editable": true,
    "slideshow": {
     "slide_type": ""
    },
    "tags": []
   },
   "outputs": [
    {
     "name": "stdout",
     "output_type": "stream",
     "text": [
      "<class 'pandas.core.frame.DataFrame'>\n",
      "RangeIndex: 40 entries, 0 to 39\n",
      "Data columns (total 10 columns):\n",
      " #   Column      Non-Null Count  Dtype  \n",
      "---  ------      --------------  -----  \n",
      " 0   dt          40 non-null     int64  \n",
      " 1   main        40 non-null     object \n",
      " 2   weather     40 non-null     object \n",
      " 3   clouds      40 non-null     object \n",
      " 4   wind        40 non-null     object \n",
      " 5   visibility  40 non-null     int64  \n",
      " 6   pop         40 non-null     float64\n",
      " 7   rain        10 non-null     object \n",
      " 8   sys         40 non-null     object \n",
      " 9   dt_txt      40 non-null     object \n",
      "dtypes: float64(1), int64(2), object(7)\n",
      "memory usage: 3.3+ KB\n",
      "None\n",
      "           dt                                               main  \\\n",
      "0  1759320000  {'temp': 281.75, 'feels_like': 279.03, 'temp_m...   \n",
      "1  1759330800  {'temp': 280.67, 'feels_like': 277.78, 'temp_m...   \n",
      "2  1759341600  {'temp': 280.19, 'feels_like': 277.43, 'temp_m...   \n",
      "3  1759352400  {'temp': 279.64, 'feels_like': 276.51, 'temp_m...   \n",
      "4  1759363200  {'temp': 278.97, 'feels_like': 275.52, 'temp_m...   \n",
      "\n",
      "                                             weather        clouds  \\\n",
      "0  [{'id': 500, 'main': 'Rain', 'description': 'l...  {'all': 100}   \n",
      "1  [{'id': 804, 'main': 'Clouds', 'description': ...  {'all': 100}   \n",
      "2  [{'id': 804, 'main': 'Clouds', 'description': ...  {'all': 100}   \n",
      "3  [{'id': 804, 'main': 'Clouds', 'description': ...  {'all': 100}   \n",
      "4  [{'id': 804, 'main': 'Clouds', 'description': ...  {'all': 100}   \n",
      "\n",
      "                                        wind  visibility  pop          rain  \\\n",
      "0  {'speed': 4.89, 'deg': 347, 'gust': 5.62}       10000  0.2  {'3h': 0.13}   \n",
      "1  {'speed': 4.68, 'deg': 336, 'gust': 6.06}       10000  0.0           NaN   \n",
      "2  {'speed': 4.17, 'deg': 334, 'gust': 6.47}       10000  0.0           NaN   \n",
      "3  {'speed': 4.65, 'deg': 318, 'gust': 6.68}       10000  0.0           NaN   \n",
      "4  {'speed': 4.98, 'deg': 319, 'gust': 7.62}       10000  0.0           NaN   \n",
      "\n",
      "            sys               dt_txt  \n",
      "0  {'pod': 'd'}  2025-10-01 12:00:00  \n",
      "1  {'pod': 'd'}  2025-10-01 15:00:00  \n",
      "2  {'pod': 'n'}  2025-10-01 18:00:00  \n",
      "3  {'pod': 'n'}  2025-10-01 21:00:00  \n",
      "4  {'pod': 'n'}  2025-10-02 00:00:00  \n"
     ]
    }
   ],
   "source": [
    "# 3. API\n",
    "API_KEY = os.getenv(\"OPENWEATHER_API_KEY\")\n",
    "BASE_URL = \"https://api.openweathermap.org\"\n",
    "\n",
    "def get_city_geo(cityName: str) -> (int, int):\n",
    "    api_version = \"1.0\"\n",
    "    params = { \"q\": cityName, \"appid\": API_KEY }\n",
    "    resp = requests.get(f\"{BASE_URL}/geo/{api_version}/direct\", params=params)\n",
    "    data = resp.json()\n",
    "    match data:\n",
    "        case [{ 'lat': lat, 'lon': lon }]:\n",
    "            return (lat, lon)\n",
    "        case _:\n",
    "            raise ValueError(\"City data not found\")\n",
    "\n",
    "def get_forecast(lat: int, lon: int) -> any:\n",
    "    api_version = \"2.5\"\n",
    "    params = { \"appid\": API_KEY, \"lat\": lat, \"lon\": lon }\n",
    "    resp = requests.get(f\"{BASE_URL}/data/{api_version}/forecast\", params)\n",
    "    return resp.json()\n",
    "\n",
    "    \n",
    "lat, lon = get_city_geo(\"Chisinau\")\n",
    "forecast_data = get_forecast(lat, lon)\n",
    "forecast_df = pd.DataFrame(forecast_data['list'])\n",
    "print(forecast_df.info())\n",
    "print(forecast_df.head())"
   ]
  },
  {
   "cell_type": "code",
   "execution_count": null,
   "id": "bf15ee17-566d-4219-981e-837ee97cba42",
   "metadata": {
    "editable": true,
    "slideshow": {
     "slide_type": ""
    },
    "tags": []
   },
   "outputs": [],
   "source": []
  },
  {
   "cell_type": "markdown",
   "id": "c4eee03b-8b51-42d9-a56d-d419a8814ae6",
   "metadata": {
    "editable": true,
    "slideshow": {
     "slide_type": ""
    },
    "tags": []
   },
   "source": [
    "# Task 2\n",
    "\n",
    "Scrape date from Bucharest airport for departure flights and download them\n",
    "to pandas dataframe. Add attribute date and time of scraping\n",
    "\n",
    "URL: https://www.bucharestairports.ro/"
   ]
  },
  {
   "cell_type": "code",
   "execution_count": 49,
   "id": "3c757a43-94c2-4834-9256-8063b7d01aa5",
   "metadata": {
    "editable": true,
    "slideshow": {
     "slide_type": ""
    },
    "tags": []
   },
   "outputs": [
    {
     "name": "stdout",
     "output_type": "stream",
     "text": [
      "<class 'pandas.core.frame.DataFrame'>\n",
      "RangeIndex: 83 entries, 0 to 82\n",
      "Data columns (total 8 columns):\n",
      " #   Column      Non-Null Count  Dtype              \n",
      "---  ------      --------------  -----              \n",
      " 0   tip         83 non-null     object             \n",
      " 1   cursa       83 non-null     object             \n",
      " 2   origine     83 non-null     object             \n",
      " 3   destinatie  83 non-null     object             \n",
      " 4   ora         83 non-null     object             \n",
      " 5   ora_est     83 non-null     object             \n",
      " 6   status      83 non-null     object             \n",
      " 7   created_at  83 non-null     datetime64[us, UTC]\n",
      "dtypes: datetime64[us, UTC](1), object(7)\n",
      "memory usage: 5.3+ KB\n",
      "None\n",
      "      tip   cursa             origine       destinatie    ora ora_est  \\\n",
      "0  sosiri  FR7669  THESSALONIKI (SKG)  Bucuresti (OTP)  00:20   00:35   \n",
      "1  sosiri  W43136       BERGAMO (BGY)  Bucuresti (OTP)  00:50   02:16   \n",
      "2  sosiri  W43146          ROME (FCO)  Bucuresti (OTP)  01:35   02:50   \n",
      "3  sosiri   OE806        VERONA (VRN)  Bucuresti (OTP)  03:00   00:29   \n",
      "4  sosiri   RO156      TEL-AVIV (TLV)  Bucuresti (OTP)  03:05   03:09   \n",
      "\n",
      "     status                       created_at  \n",
      "0  Aterizat 2025-10-01 10:58:03.494214+00:00  \n",
      "1  Aterizat 2025-10-01 10:58:03.494214+00:00  \n",
      "2  Aterizat 2025-10-01 10:58:03.494214+00:00  \n",
      "3  Aterizat 2025-10-01 10:58:03.494214+00:00  \n",
      "4  Aterizat 2025-10-01 10:58:03.494214+00:00  \n"
     ]
    }
   ],
   "source": [
    "\n",
    "def get_airport_data():\n",
    "    AIRPORT_URL = \"https://www.bucharestairports.ro/\"\n",
    "    # disable ssl warnings\n",
    "    import urllib3\n",
    "    urllib3.disable_warnings()\n",
    "    \n",
    "    resp = requests.get(AIRPORT_URL, verify=False, timeout=20)\n",
    "    bs = BeautifulSoup(resp.content)\n",
    "    \n",
    "    def get_data_from_table(tip: str, table: list[any]) -> list[dict]:\n",
    "        data = []\n",
    "        for row in table:\n",
    "            colums = row.select('td')\n",
    "            origine = destinatie = 'Bucuresti (OTP)'\n",
    "            if tip == 'sosiri':\n",
    "                origine = colums[1].text\n",
    "            else:\n",
    "                destinatie = colums[1].text\n",
    "            data.append({\n",
    "                \"tip\": tip,\n",
    "                \"cursa\": colums[0].text,\n",
    "                \"origine\": origine,\n",
    "                \"destinatie\": destinatie,\n",
    "                \"ora\": colums[2].text,\n",
    "                \"ora_est\": colums[3].text,\n",
    "                \"status\": colums[4].text\n",
    "            })\n",
    "        return data\n",
    "        \n",
    "    sosiri_table = bs.select('div#sosiri_inner tr')\n",
    "    plecari_table = bs.select('div#plecari_inner tr')\n",
    "    return get_data_from_table('sosiri', sosiri_table) + get_data_from_table('plecari', plecari_table)\n",
    "                        \n",
    "airport_df = pd.DataFrame(get_airport_data())\n",
    "airport_df['created_at'] = pd.Timestamp.now(tz=\"UTC\")\n",
    "print(airport_df.info())\n",
    "print(airport_df.head())"
   ]
  },
  {
   "cell_type": "code",
   "execution_count": null,
   "id": "7883c709-f492-48b9-929b-b81cbd53be4d",
   "metadata": {},
   "outputs": [],
   "source": []
  }
 ],
 "metadata": {
  "kernelspec": {
   "display_name": "Python 3 (ipykernel)",
   "language": "python",
   "name": "python3"
  },
  "language_info": {
   "codemirror_mode": {
    "name": "ipython",
    "version": 3
   },
   "file_extension": ".py",
   "mimetype": "text/x-python",
   "name": "python",
   "nbconvert_exporter": "python",
   "pygments_lexer": "ipython3",
   "version": "3.13.5"
  }
 },
 "nbformat": 4,
 "nbformat_minor": 5
}
